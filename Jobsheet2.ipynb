{
  "nbformat": 4,
  "nbformat_minor": 0,
  "metadata": {
    "colab": {
      "provenance": [],
      "authorship_tag": "ABX9TyPaivMZF8tMdKhDLcbZx4xw",
      "include_colab_link": true
    },
    "kernelspec": {
      "name": "python3",
      "display_name": "Python 3"
    },
    "language_info": {
      "name": "python"
    }
  },
  "cells": [
    {
      "cell_type": "markdown",
      "metadata": {
        "id": "view-in-github",
        "colab_type": "text"
      },
      "source": [
        "<a href=\"https://colab.research.google.com/github/azkbrqlna/2025-PBO-Praktikum/blob/main/Jobsheet2.ipynb\" target=\"_parent\"><img src=\"https://colab.research.google.com/assets/colab-badge.svg\" alt=\"Open In Colab\"/></a>"
      ]
    },
    {
      "cell_type": "markdown",
      "source": [
        "# JOBSHEET 02: DASAR KELAS DAN FUNGSI PADA BAHASA PEMROGRAMAN PYTHON\n"
      ],
      "metadata": {
        "id": "ZF4RiJDkrMnh"
      }
    },
    {
      "cell_type": "markdown",
      "source": [
        "## A. Tujuan Instruksional Khusus\n",
        "Setelah menyelesaikan praktikum ini, mahasiswa diharapkan mampu:\n",
        "1. Memahami dan mengimplementasikan fungsi dalam Python, termasuk parameter dan\n",
        "return value.\n",
        "2. Menggunakan konsep modularitas dalam pemecahan masalah dengan mendefinisikan\n",
        "fungsi.\n",
        "3. Mendeklarasikan kelas dalam Python.\n",
        "4. Menggunakan atribut dan method dalam kelas."
      ],
      "metadata": {
        "id": "4o0fiqPLrpEu"
      }
    },
    {
      "cell_type": "markdown",
      "source": [
        "## B. Langkah Praktikum"
      ],
      "metadata": {
        "id": "tYm2XBWWr3mc"
      }
    },
    {
      "cell_type": "markdown",
      "source": [
        "Praktikum 1 : Membuat dan Menggunakan Fungsi"
      ],
      "metadata": {
        "id": "W1ybc2jWr9wl"
      }
    },
    {
      "cell_type": "code",
      "source": [
        "# Fungsi Built-in\n",
        "# Fungsi print() adalah contoh fungsi built-in untuk mencetak output\n",
        "print(\"PRAKTIKUM 1 : MEMBUAT DAN MENGGUNAKAN FUNGSI\")\n",
        "print(\"============================================\")\n",
        "print(\"Ini adalah contoh fungsi built-in\")\n",
        "\n",
        "# Fungsi len() adalah contoh fungsi built-in untuk menghitung panjang suatu objek\n",
        "word = \"Pemrogramman Python\"\n",
        "word_length = len(word)\n",
        "print(f\"Panjang dari kata {word} adalah {word_length} karakter\")\n",
        "\n",
        "#  Fungsi max() adalah contoh fungsi built-in untuk mencari nilai maksimum dari sebuah daftar\n",
        "number = [10, 5, 30, 40, 25]\n",
        "max_number = max(number)\n",
        "print(f\"Nilai maksimum dalam daftar {number} adalah {max_number}\")\n",
        "\n",
        "# Fungsi User-Defined\n",
        "# Fungsi dengan satu parameter (Menerima satu nilai input)\n",
        "def cetak_kuadrat(angka):\n",
        "  # Menghitung kuadrat dari angka yang diterima sebagai parameter\n",
        "  print(f\"Kuadrat dari {angka} adalah {angka**2}\")\n",
        "\n",
        "# Fungsi dengan beberapa parameter (Menerima lebih dari satu nilai input)\n",
        "def hitung_luas_persegi_panjang(panjang, lebar):\n",
        "  # Menghitung luas persegi panjang\n",
        "  return panjang * lebar\n",
        "\n",
        "# Fungsi dengan beberapa tipe parameter (Menerima berbagai jenis data)\n",
        "def info_mahasiswa(nama, umur, ipk):\n",
        "  # Mencetak informasi mahasiswa\n",
        "  print(f\"Nama: {nama}, Umur: {umur} tahun, IPK: {ipk}\")\n",
        "\n",
        "# Fungsi tanpa return value (Non-return value)\n",
        "def sapa_pengguna(nama):\n",
        "  # Fungsi ini hanya mencetak sapaan tanpa mengembalikan nilai\n",
        "  print(f\"Halo, {nama}! Selamat datang di dunia Python.\")\n",
        "\n",
        "# fungsi dengan return value\n",
        "def hitung_keliling_persegi(sisi):\n",
        "  return 4 * sisi\n",
        "\n",
        "# Pemanggilan fungsi dengan satu parameter\n",
        "cetak_kuadrat(5)\n",
        "\n",
        "# Pemanggilan fungsi dengan bebrapa parameter\n",
        "luas = hitung_luas_persegi_panjang(10, 5)\n",
        "print(f\"Luas persegi panjang: {luas}\")\n",
        "\n",
        "# Pemanggilan fungsi dengan beberapa tipe parameter\n",
        "info_mahasiswa(\"Azka\", 22, 4.0)\n",
        "\n",
        "# Pemanggilan fungsi tanpa return value\n",
        "sapa_pengguna(\"Azka Bariqlana\")\n",
        "\n",
        "# Pemanggilan fungsi dengan return value\n",
        "keliling = hitung_keliling_persegi(5)\n",
        "print(f\"Keliling persegi dengan sisi 5 adalah : {keliling}\")\n",
        "\n"
      ],
      "metadata": {
        "colab": {
          "base_uri": "https://localhost:8080/"
        },
        "id": "SVxd4ArMsImb",
        "outputId": "e91a88bb-54ce-4653-f5d2-9d5766c39ae4"
      },
      "execution_count": null,
      "outputs": [
        {
          "output_type": "stream",
          "name": "stdout",
          "text": [
            "PRAKTIKUM 1 : MEMBUAT DAN MENGGUNAKAN FUNGSI\n",
            "============================================\n",
            "Ini adalah contoh fungsi built-in\n",
            "Panjang dari kata Pemrogramman Python adalah 19 karakter\n",
            "Nilai maksimum dalam daftar [10, 5, 30, 40, 25] adalah 40\n",
            "Kuadrat dari 5 adalah 25\n",
            "Luas persegi panjang: 50\n",
            "Nama: Azka, Umur: 22 tahun, IPK: 4.0\n",
            "Halo, Azka Bariqlana! Selamat datang di dunia Python.\n",
            "Keliling persegi dengan sisi 5 adalah : 20\n"
          ]
        }
      ]
    },
    {
      "cell_type": "markdown",
      "source": [
        "Praktikum 2 : Modularisasi Kode dengan Fungsi"
      ],
      "metadata": {
        "id": "FOSNWSuIzbCa"
      }
    },
    {
      "cell_type": "code",
      "source": [
        "# File utama main.py yang mengimpor modul geometri.py\n",
        "\n",
        "# Mengimpor modul geomet\n",
        "import geometri\n",
        "\n",
        "def main():\n",
        "\n",
        "  print(\"PRAKTIKUM 2 : MODULARISASI KODE DENGAN FUNGSI\")\n",
        "  print(\"=============================================\")\n",
        "  # Menggunakan fungsi dari modul geometri\n",
        "  luas_persegi = geometri.hitung_luas_persegi(5)\n",
        "  print(f\"Luas persegi dengan sisi 5 adalah: {luas_persegi}\")\n",
        "\n",
        "  luas_persegi_panjang = geometri.hitung_luas_persegi_panjang(10, 5)\n",
        "  print(f\"Luas persegi panjang dengan panjang 10 dan lebar 5 adalah: {luas_persegi_panjang}\")\n",
        "\n",
        "  luas_lingkaran = geometri.hitung_luas_lingkaran(7)\n",
        "  print(f\"Luas lingkaran dengan jari-jari 7 adalah: {luas_lingkaran}\")\n",
        "\n",
        "if __name__ == \"__main__\":\n",
        "  main()"
      ],
      "metadata": {
        "colab": {
          "base_uri": "https://localhost:8080/"
        },
        "id": "8FweOt0-xsGm",
        "outputId": "38b9f20e-8940-4c6b-cbde-367a2f81873a"
      },
      "execution_count": 6,
      "outputs": [
        {
          "output_type": "stream",
          "name": "stdout",
          "text": [
            "PRAKTIKUM 2 : MODULARISASI KODE DENGAN FUNGSI\n",
            "=============================================\n",
            "Luas persegi dengan sisi 5 adalah: 25\n",
            "Luas persegi panjang dengan panjang 10 dan lebar 5 adalah: 50\n",
            "Luas lingkaran dengan jari-jari 7 adalah: 153.86\n"
          ]
        }
      ]
    },
    {
      "cell_type": "markdown",
      "source": [
        "Praktikum 3 : Membuat Kelas Sederhana"
      ],
      "metadata": {
        "id": "DGf_JImCzrVR"
      }
    },
    {
      "cell_type": "code",
      "source": [
        "# Kelas Buku untuk merepresentasikan buku di perpustakaan\n",
        "class Buku:\n",
        "  def __init__(self, judul, pengarang, tahun_terbit):\n",
        "    self.judul = judul\n",
        "    self.pengarang = pengarang\n",
        "    self.tahun_terbit = tahun_terbit\n",
        "    self.status = \"Tersedia\"\n",
        "\n",
        "  def tampilkan_info(self):\n",
        "    print(\"Informasi Buku:\")\n",
        "    print(f\"Judul: {self.judul}\")\n",
        "    print(f\"Pengarang: {self.pengarang}\")\n",
        "    print(f\"Tahun Terbit: {self.tahun_terbit}\")\n",
        "    print(f\"Status: {self.status}\")\n",
        "\n",
        "  def pinjam(self):\n",
        "    if self.status == \"Tersedia\":\n",
        "      self.status = \"Dipinjam\"\n",
        "      print(f\"Buku '{self.judul}' telah dipinjam.\")\n",
        "    else:\n",
        "      print(f\"Buku '{self.judul}' sedang dipinjam.\")\n",
        "\n",
        "  def kembalikan(self):\n",
        "    if self.status == \"Dipinjam\":\n",
        "      self.status = \"Tersedia\"\n",
        "      print(f\"Buku '{self.judul}' telah dikembalikan.\")\n",
        "    else:\n",
        "      print(f\"Buku '{self.judul}' tidak sedang dipinjam.\")\n",
        "\n",
        "# Membuat objek dari kelas Buku\n",
        "buku1 = Buku(\"Pemrogramman Python\", \"John Doe\", 2021)\n",
        "buku2 = Buku(\"Algoritma Pemrograman\", \"Jane Smith\", 2020)\n",
        "\n",
        "\n",
        "# Menggunakan metode objek buku\n",
        "buku1.tampilkan_info()\n",
        "buku2.pinjam()\n",
        "\n",
        "# Mengubah status buku dan menammpilkan informasi\n",
        "buku2.kembalikan()\n",
        "buku1.pinjam()\n",
        "buku1.tampilkan_info()\n",
        "\n",
        "# Kelas Mahasiswa untuk merepresentasikan Mahasiswa dalam kelas\n",
        "\n",
        "# Definisi kelas\n",
        "class Mahasiswa:\n",
        "  # Konstruktor __init__ untuk meginisialisasi attribut objek\n",
        "  def __init__(self, nama, nim, umur):\n",
        "    self.nama = nama  # Atribut objek nama\n",
        "    self.nim = nim # Atribut objek nim\n",
        "    self.umur = umur # Atribut objek umur\n",
        "\n",
        "  # Metode untuk menampilkan informasi mahasiswa\n",
        "  def tampilkan_info(self):\n",
        "    print(f\"Nama: {self.nama}\")\n",
        "    print(f\"NIM: {self.nim}\")\n",
        "    print(f\"Umur: {self.umur} tahun\")\n",
        "\n",
        "  # Metode untuk merubah umur mahasiswa\n",
        "  def ubah_umur(self, umur_baru):\n",
        "    self.umur = umur_baru\n",
        "\n",
        "# Membuat objek (instance) dari kelas Mahasiswa\n",
        "mahasiswa1 = Mahasiswa(\"Andi\" , \"12345\", 20)\n",
        "mahasiswa2 = Mahasiswa(\"Budi\", \"67890\", 22)\n",
        "\n",
        "# Menggunakan metode dari kelas Mahasiswa\n",
        "mahasiswa1.tampilkan_info()\n",
        "print()\n",
        "mahasiswa2.tampilkan_info()\n",
        "\n",
        "# Mengubah umur mahasiswa1 menggunakan metode ubah_umur\n",
        "mahasiswa1.ubah_umur(21)\n",
        "\n",
        "# menampilkan info mahasiswa setelah umur diubah\n",
        "print(\"\\nSetelah mengubah umur Mahasiswa 1:\")\n",
        "mahasiswa1.tampilkan_info()"
      ],
      "metadata": {
        "colab": {
          "base_uri": "https://localhost:8080/"
        },
        "id": "_95U9zPZzTzn",
        "outputId": "a362d9ca-6969-4b33-e77a-df6723e20eb4"
      },
      "execution_count": 18,
      "outputs": [
        {
          "output_type": "stream",
          "name": "stdout",
          "text": [
            "Informasi Buku:\n",
            "Judul: Pemrogramman Python\n",
            "Pengarang: John Doe\n",
            "Tahun Terbit: 2021\n",
            "Status: Tersedia\n",
            "Buku 'Algoritma Pemrograman' telah dipinjam.\n",
            "Buku 'Algoritma Pemrograman' telah dikembalikan.\n",
            "Buku 'Pemrogramman Python' telah dipinjam.\n",
            "Informasi Buku:\n",
            "Judul: Pemrogramman Python\n",
            "Pengarang: John Doe\n",
            "Tahun Terbit: 2021\n",
            "Status: Dipinjam\n",
            "Nama: Andi\n",
            "NIM: 12345\n",
            "Umur: 20 tahun\n",
            "\n",
            "Nama: Budi\n",
            "NIM: 67890\n",
            "Umur: 22 tahun\n",
            "\n",
            "Setelah mengubah umur Mahasiswa 1:\n",
            "Nama: Andi\n",
            "NIM: 12345\n",
            "Umur: 21 tahun\n"
          ]
        }
      ]
    },
    {
      "cell_type": "markdown",
      "source": [
        "Praktikum 4: Membuat dan Menggunakan Method dalam Kelas"
      ],
      "metadata": {
        "id": "8Dib5ULEBk9a"
      }
    },
    {
      "cell_type": "code",
      "source": [
        "# Kelas untuk menjelaskan atribut dan metode dalam kelas\n",
        "class Mobil:\n",
        "  def __init__(self, merk, warna, tahun, harga):\n",
        "  # Atribut yang dimiliki oleh objek Mobil\n",
        "    self.merk = merk\n",
        "    self.warna = warna\n",
        "    self.tahun = tahun\n",
        "    self.harga = harga\n",
        "\n",
        "  # Fungsi tanpa return value, hanya mencetak informasi\n",
        "  def tampilkan_info(self):\n",
        "    print(f\"Mobil {self.merk} berwarna {self.warna}, tahun {self.tahun}, harga: Rp {self.harga}\")\n",
        "\n",
        "  # Fungsi dengan satu parameter\n",
        "  def diskon(self, persen_diskon):\n",
        "  # Menghitung harga setelah diskon\n",
        "    diskon_harga = self.harga * (persen_diskon / 100)\n",
        "    harga_setelah_diskon = self.harga - diskon_harga\n",
        "    print(f\"Harga setelah diskon {persen_diskon}%: Rp {harga_setelah_diskon}\")\n",
        "\n",
        "  # Tidak mengembalikan nilai, hanya mencetak harga setelah diskon\n",
        "\n",
        "  # Fungsi dengan return value, menghitung usia mobil berdasarkan tahun\n",
        "  def hitung_usia(self, tahun_sekarang):\n",
        "    usia = tahun_sekarang - self.tahun\n",
        "    return usia\n",
        "\n",
        "  # Fungsi dengan beberapa parameter\n",
        "  def perbarui_harga(self, harga_baru, tahun_baru):\n",
        "    self.harga = harga_baru\n",
        "    self.tahun = tahun_baru\n",
        "    print(f\"Harga dan tahun mobil {self.merk} diperbarui menjadi Rp{self.harga} dan tahun {self.tahun}\")\n",
        "\n",
        "# Membuat objek mobil\n",
        "mobil1 = Mobil(\"Toyota\", \"Hitam\", 2015, 300000000)\n",
        "mobil2 = Mobil(\"Honda\", \"Merah\", 2018, 250000000)\n",
        "\n",
        "# Menggunakan metode tanpa return value\n",
        "mobil1.tampilkan_info()\n",
        "mobil2.tampilkan_info()\n",
        "\n",
        "# Menggunakan metode dengan satu parameter (diskon)\n",
        "mobil1.diskon(10)\n",
        "mobil2.diskon(15)\n",
        "\n",
        "# Menggunakan metode dengan return value (hitung usia mobil)\n",
        "usia_mobil1 = mobil1.hitung_usia(2025)\n",
        "usia_mobil2 = mobil2.hitung_usia(2025)\n",
        "\n",
        "print(f\"Usia mobil1 pada tahun 2025: {usia_mobil1} tahun\")\n",
        "print(f\"Usia mobil2 pada tahun 2025: {usia_mobil2} tahun\")\n",
        "\n",
        "# Menggunakan metode dengan beberapa parameter (perbarui harga dan tahun)\n",
        "mobil1.perbarui_harga(280000000, 2022)\n",
        "mobil2.perbarui_harga(240000000, 2021)"
      ],
      "metadata": {
        "colab": {
          "base_uri": "https://localhost:8080/"
        },
        "id": "GmVkx7fx_jxB",
        "outputId": "d704133d-8fb6-4b82-bfbb-3952bd5d9685"
      },
      "execution_count": 16,
      "outputs": [
        {
          "output_type": "stream",
          "name": "stdout",
          "text": [
            "Mobil Toyota berwarna Hitam, tahun 2015, harga: Rp 300000000\n",
            "Mobil Honda berwarna Merah, tahun 2018, harga: Rp 250000000\n",
            "Harga setelah diskon 10%: Rp 270000000.0\n",
            "Harga setelah diskon 15%: Rp 212500000.0\n",
            "Usia mobil1 pada tahun 2025: 10 tahun\n",
            "Usia mobil2 pada tahun 2025: 7 tahun\n",
            "Harga dan tahun mobil Toyota diperbarui menjadi Rp280000000 dan tahun 2022\n",
            "Harga dan tahun mobil Honda diperbarui menjadi Rp240000000 dan tahun 2021\n"
          ]
        }
      ]
    },
    {
      "cell_type": "markdown",
      "source": [
        "## Program Sederhana Jadwal Kelas"
      ],
      "metadata": {
        "id": "GjjFYBu_KW8I"
      }
    },
    {
      "cell_type": "code",
      "source": [
        "from kelas import Kelas\n",
        "\n",
        "def main():\n",
        "    print(\"==== SISTEM JADWAL KELAS ====\")\n",
        "\n",
        "    # Membuat daftar kelas\n",
        "    kelas1 = Kelas(\"TI-1A\", \"Pemrograman Python\", \"Dr. Andi\", \"Senin\", \"08:00 - 10:00\")\n",
        "    kelas2 = Kelas(\"TI-1B\", \"Struktur Data\", \"Prof. Budi\", \"Rabu\", \"10:00 - 12:00\")\n",
        "    kelas3 = Kelas(\"TI-1C\", \"Basis Data\", \"Dr. Citra\", \"Jumat\", \"13:00 - 15:00\")\n",
        "\n",
        "    # Menampilkan jadwal awal\n",
        "    daftar_kelas = [kelas1, kelas2, kelas3]\n",
        "    print(\"\\nJadwal Kelas:\")\n",
        "    for kelas in daftar_kelas:\n",
        "        kelas.tampilkan_jadwal()\n",
        "\n",
        "    # Mengubah jadwal kelas tertentu\n",
        "    print(\"\\nPerubahan Jadwal:\")\n",
        "    kelas1.ubah_jadwal(\"Selasa\", \"09:00 - 11:00\")\n",
        "    kelas3.ubah_jadwal(\"Kamis\", \"14:00 - 16:00\")\n",
        "\n",
        "    # Menampilkan jadwal setelah perubahan\n",
        "    print(\"\\nJadwal Setelah Perubahan:\")\n",
        "    for kelas in daftar_kelas:\n",
        "        kelas.tampilkan_jadwal()\n",
        "\n",
        "if __name__ == \"__main__\":\n",
        "    main()"
      ],
      "metadata": {
        "id": "bHo2qTfpKegC",
        "outputId": "6040b797-2297-464b-ad75-7b7e211e8ca6",
        "colab": {
          "base_uri": "https://localhost:8080/",
          "height": 721
        }
      },
      "execution_count": 30,
      "outputs": [
        {
          "output_type": "stream",
          "name": "stdout",
          "text": [
            "==== SISTEM JADWAL KELAS ====\n",
            "\n",
            "Jadwal Kelas:\n",
            "\n",
            "Jadwal Mata Kuliah Prodi TRK\n",
            "Kelas : TI-1A\n",
            "Mata Kuliah : Pemrograman Python\n",
            "Dosen : Dr. Andi\n",
            "Hari : Senin, Jam : 08:00 - 10:00\n",
            "\n",
            "Jadwal Mata Kuliah Prodi TRK\n",
            "Kelas : TI-1B\n",
            "Mata Kuliah : Struktur Data\n",
            "Dosen : Prof. Budi\n",
            "Hari : Rabu, Jam : 10:00 - 12:00\n",
            "\n",
            "Jadwal Mata Kuliah Prodi TRK\n",
            "Kelas : TI-1C\n",
            "Mata Kuliah : Basis Data\n",
            "Dosen : Dr. Citra\n",
            "Hari : Jumat, Jam : 13:00 - 15:00\n",
            "\n",
            "Perubahan Jadwal:\n"
          ]
        },
        {
          "output_type": "error",
          "ename": "AttributeError",
          "evalue": "'Kelas' object has no attribute 'kelas'",
          "traceback": [
            "\u001b[0;31m---------------------------------------------------------------------------\u001b[0m",
            "\u001b[0;31mAttributeError\u001b[0m                            Traceback (most recent call last)",
            "\u001b[0;32m<ipython-input-30-c8415cb792cd>\u001b[0m in \u001b[0;36m<cell line: 0>\u001b[0;34m()\u001b[0m\n\u001b[1;32m     26\u001b[0m \u001b[0;34m\u001b[0m\u001b[0m\n\u001b[1;32m     27\u001b[0m \u001b[0;32mif\u001b[0m \u001b[0m__name__\u001b[0m \u001b[0;34m==\u001b[0m \u001b[0;34m\"__main__\"\u001b[0m\u001b[0;34m:\u001b[0m\u001b[0;34m\u001b[0m\u001b[0;34m\u001b[0m\u001b[0m\n\u001b[0;32m---> 28\u001b[0;31m     \u001b[0mmain\u001b[0m\u001b[0;34m(\u001b[0m\u001b[0;34m)\u001b[0m\u001b[0;34m\u001b[0m\u001b[0;34m\u001b[0m\u001b[0m\n\u001b[0m",
            "\u001b[0;32m<ipython-input-30-c8415cb792cd>\u001b[0m in \u001b[0;36mmain\u001b[0;34m()\u001b[0m\n\u001b[1;32m     17\u001b[0m     \u001b[0;31m# Mengubah jadwal kelas tertentu\u001b[0m\u001b[0;34m\u001b[0m\u001b[0;34m\u001b[0m\u001b[0m\n\u001b[1;32m     18\u001b[0m     \u001b[0mprint\u001b[0m\u001b[0;34m(\u001b[0m\u001b[0;34m\"\\nPerubahan Jadwal:\"\u001b[0m\u001b[0;34m)\u001b[0m\u001b[0;34m\u001b[0m\u001b[0;34m\u001b[0m\u001b[0m\n\u001b[0;32m---> 19\u001b[0;31m     \u001b[0mkelas1\u001b[0m\u001b[0;34m.\u001b[0m\u001b[0mubah_jadwal\u001b[0m\u001b[0;34m(\u001b[0m\u001b[0;34m\"Selasa\"\u001b[0m\u001b[0;34m,\u001b[0m \u001b[0;34m\"09:00 - 11:00\"\u001b[0m\u001b[0;34m)\u001b[0m\u001b[0;34m\u001b[0m\u001b[0;34m\u001b[0m\u001b[0m\n\u001b[0m\u001b[1;32m     20\u001b[0m     \u001b[0mkelas3\u001b[0m\u001b[0;34m.\u001b[0m\u001b[0mubah_jadwal\u001b[0m\u001b[0;34m(\u001b[0m\u001b[0;34m\"Kamis\"\u001b[0m\u001b[0;34m,\u001b[0m \u001b[0;34m\"14:00 - 16:00\"\u001b[0m\u001b[0;34m)\u001b[0m\u001b[0;34m\u001b[0m\u001b[0;34m\u001b[0m\u001b[0m\n\u001b[1;32m     21\u001b[0m \u001b[0;34m\u001b[0m\u001b[0m\n",
            "\u001b[0;32m/content/kelas.py\u001b[0m in \u001b[0;36mubah_jadwal\u001b[0;34m(self, hari_baru, jam_baru)\u001b[0m\n\u001b[1;32m     17\u001b[0m         \u001b[0mself\u001b[0m\u001b[0;34m.\u001b[0m\u001b[0mhari\u001b[0m \u001b[0;34m=\u001b[0m \u001b[0mhari_baru\u001b[0m\u001b[0;34m\u001b[0m\u001b[0;34m\u001b[0m\u001b[0m\n\u001b[1;32m     18\u001b[0m         \u001b[0mself\u001b[0m\u001b[0;34m.\u001b[0m\u001b[0mjam\u001b[0m \u001b[0;34m=\u001b[0m \u001b[0mjam_baru\u001b[0m\u001b[0;34m\u001b[0m\u001b[0;34m\u001b[0m\u001b[0m\n\u001b[0;32m---> 19\u001b[0;31m         \u001b[0mprint\u001b[0m\u001b[0;34m(\u001b[0m\u001b[0;34mf\"Jadwal kelas {self.nama_kelas} telah diperbarui menjadi:\"\u001b[0m\u001b[0;34m)\u001b[0m\u001b[0;34m\u001b[0m\u001b[0;34m\u001b[0m\u001b[0m\n\u001b[0m\u001b[1;32m     20\u001b[0m         \u001b[0mprint\u001b[0m\u001b[0;34m(\u001b[0m\u001b[0;34mf\"Hari: {self.hari}, Jam: {self.jam}\"\u001b[0m\u001b[0;34m)\u001b[0m\u001b[0;34m\u001b[0m\u001b[0;34m\u001b[0m\u001b[0m\n\u001b[1;32m     21\u001b[0m         \u001b[0mprint\u001b[0m\u001b[0;34m(\u001b[0m\u001b[0;34m\"-\"\u001b[0m \u001b[0;34m*\u001b[0m \u001b[0;36m30\u001b[0m\u001b[0;34m)\u001b[0m\u001b[0;34m\u001b[0m\u001b[0;34m\u001b[0m\u001b[0m\n",
            "\u001b[0;31mAttributeError\u001b[0m: 'Kelas' object has no attribute 'kelas'"
          ]
        }
      ]
    }
  ]
}