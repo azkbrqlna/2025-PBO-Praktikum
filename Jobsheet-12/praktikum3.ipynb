{
 "cells": [
  {
   "cell_type": "markdown",
   "id": "676811e9",
   "metadata": {},
   "source": [
    "### Praktikum 3: Mendesain Kelas OOP "
   ]
  },
  {
   "cell_type": "code",
   "execution_count": 1,
   "id": "8f2fe859",
   "metadata": {},
   "outputs": [
    {
     "name": "stdout",
     "output_type": "stream",
     "text": [
      "\n",
      "--- Perbandingan Kesamaan (==) ---\n",
      "-> Memanggil __eq__: Membandingkan 'Sejarah Jawa Kuno' == 'Teknologi AI'\n",
      "'Sejarah Jawa Kuno' == 'Teknologi AI' ? False\n",
      "-> Memanggil __eq__: Membandingkan 'Sejarah Jawa Kuno' == 'Sejarah Jawa Kuno'\n",
      "'Sejarah Jawa Kuno' == 'Sejarah Jawa Kuno' ? True\n",
      "-> Memanggil __eq__: Membandingkan 'Sejarah Jawa Kuno' == '?'\n",
      "'Sejarah Jawa Kuno' == 'Teks' ? False\n",
      "\n",
      "--- Perbandingan Kurang Dari (<) ---\n",
      "-> Memanggil __lt__: Membandingkan 'Sejarah Jawa Kuno' (1995) < 'Teknologi AI' (2022)\n",
      "'Sejarah Jawa Kuno' (1995) < 'Teknologi AI' (2022) ? True\n",
      "-> Memanggil __lt__: Membandingkan 'Teknologi AI' (2022) < 'Sejarah Jawa Kuno' (1995)\n",
      "'Teknologi AI' (2022) < 'Sejarah Jawa Kuno' (1995) ? False\n",
      "-> Memanggil __lt__: Membandingkan 'Sejarah Jawa Kuno' (1995) < 'Sejarah Jawa Kuno' (1995)\n",
      "'Sejarah Jawa Kuno' (1995) < 'Sejarah Jawa Kuno' (1995) ? False\n",
      "-> Memanggil __lt__: Membandingkan 'Sejarah Jawa Kuno' (1995) < 'Pengantar Python' (2018)\n",
      "'Sejarah Jawa Kuno' (1995) < 'Pengantar Python' (2018) ? True\n",
      "\n",
      "--- Perbandingan Lain (Otomatis dari __lt__ dan __eq__) ---\n",
      "-> Memanggil __lt__: Membandingkan 'Sejarah Jawa Kuno' (1995) < 'Teknologi AI' (2022)\n",
      "'Teknologi AI' (2022) > 'Sejarah Jawa Kuno' (1995) ? True\n",
      "-> Memanggil __eq__: Membandingkan 'Sejarah Jawa Kuno' == 'Teknologi AI'\n",
      "'Sejarah Jawa Kuno' (1995) != 'Teknologi AI' (2022) ? True\n",
      "\n",
      "--- Perbandingan dengan Tipe Lain ---\n",
      "-> Memanggil __lt__: Membandingkan 'Sejarah Jawa Kuno' (1995) < '?' (?)\n",
      "Error saat membandingkan buku_A < 5: '<' not supported between instances of 'Buku' and 'int'\n"
     ]
    }
   ],
   "source": [
    "class Buku:\n",
    "    def __init__(self, judul, penulis, tahun, jml_halaman):\n",
    "        self.judul = judul\n",
    "        self.penulis = penulis\n",
    "        self.tahun = tahun\n",
    "        self.jml_halaman = max(0, jml_halaman)  # Pastikan non-negatif\n",
    "\n",
    "    def __str__(self):\n",
    "        return f\"'{self.judul}' ({self.tahun})\"\n",
    "\n",
    "    def __repr__(self):\n",
    "        return f\"Buku(judul='{self.judul}', penulis='{self.penulis}', tahun={self.tahun}, jml_halaman={self.jml_halaman})\"\n",
    "\n",
    "    def __len__(self):\n",
    "        return self.jml_halaman\n",
    "\n",
    "    # --- Implementasi Perbandingan ---\n",
    "\n",
    "    def __eq__(self, other):\n",
    "        \"\"\"Membandingkan kesamaan dua objek Buku berdasarkan judul dan penulis.\"\"\"\n",
    "        print(f\"-> Memanggil __eq__: Membandingkan '{self.judul}' == '{getattr(other, 'judul', '?')}'\")\n",
    "        if isinstance(other, Buku):\n",
    "            return (self.judul == other.judul) and (self.penulis == other.penulis)\n",
    "        return NotImplemented\n",
    "\n",
    "    def __lt__(self, other):\n",
    "        \"\"\"Membandingkan objek Buku berdasarkan tahun terbit (lebih kecil dari).\"\"\"\n",
    "        print(f\"-> Memanggil __lt__: Membandingkan '{self.judul}' ({self.tahun}) < '{getattr(other, 'judul', '?')}' ({getattr(other, 'tahun', '?')})\")\n",
    "        if isinstance(other, Buku):\n",
    "            return self.tahun < other.tahun\n",
    "        return NotImplemented\n",
    "\n",
    "\n",
    "# --- Kode Utama ---\n",
    "if __name__ == \"__main__\":\n",
    "    buku_A = Buku(\"Sejarah Jawa Kuno\", \"Prof. X\", 1995, 450)\n",
    "    buku_B = Buku(\"Teknologi AI\", \"Dr. Y\", 2022, 300)\n",
    "    buku_C = Buku(\"Sejarah Jawa Kuno\", \"Prof. X\", 1995, 500)  # Sama judul & penulis dengan A\n",
    "    buku_D = Buku(\"Pengantar Python\", \"Prof. X\", 2018, 400)\n",
    "\n",
    "    print(\"\\n--- Perbandingan Kesamaan (==) ---\")\n",
    "    print(f\"'{buku_A.judul}' == '{buku_B.judul}' ? {buku_A == buku_B}\")  # False\n",
    "    print(f\"'{buku_A.judul}' == '{buku_C.judul}' ? {buku_A == buku_C}\")  # True\n",
    "    print(f\"'{buku_A.judul}' == 'Teks' ? {buku_A == 'Teks'}\")            # False (beda tipe)\n",
    "\n",
    "    print(\"\\n--- Perbandingan Kurang Dari (<) ---\")\n",
    "    print(f\"{buku_A} < {buku_B} ? {buku_A < buku_B}\")  # True (1995 < 2022)\n",
    "    print(f\"{buku_B} < {buku_A} ? {buku_B < buku_A}\")  # False (2022 > 1995)\n",
    "    print(f\"{buku_A} < {buku_C} ? {buku_A < buku_C}\")  # False (1995 == 1995)\n",
    "    print(f\"{buku_A} < {buku_D} ? {buku_A < buku_D}\")  # True (1995 < 2018)\n",
    "\n",
    "    print(\"\\n--- Perbandingan Lain (Otomatis dari __lt__ dan __eq__) ---\")\n",
    "    print(f\"{buku_B} > {buku_A} ? {buku_B > buku_A}\")    # True\n",
    "    print(f\"{buku_A} != {buku_B} ? {buku_A != buku_B}\")  # True\n",
    "\n",
    "    print(\"\\n--- Perbandingan dengan Tipe Lain ---\")\n",
    "    try:\n",
    "        hasil_error = buku_A < 5  # Akan menyebabkan TypeError\n",
    "        print(f\"Hasil buku_A < 5 : {hasil_error}\")\n",
    "    except TypeError as e:\n",
    "        print(f\"Error saat membandingkan buku_A < 5: {e}\")\n"
   ]
  }
 ],
 "metadata": {
  "kernelspec": {
   "display_name": "Python 3",
   "language": "python",
   "name": "python3"
  },
  "language_info": {
   "codemirror_mode": {
    "name": "ipython",
    "version": 3
   },
   "file_extension": ".py",
   "mimetype": "text/x-python",
   "name": "python",
   "nbconvert_exporter": "python",
   "pygments_lexer": "ipython3",
   "version": "3.13.1"
  }
 },
 "nbformat": 4,
 "nbformat_minor": 5
}
