{
  "nbformat": 4,
  "nbformat_minor": 0,
  "metadata": {
    "colab": {
      "provenance": [],
      "authorship_tag": "ABX9TyOQl8Qv3GBChs1lQTLmPA4y",
      "include_colab_link": true
    },
    "kernelspec": {
      "name": "python3",
      "display_name": "Python 3"
    },
    "language_info": {
      "name": "python"
    }
  },
  "cells": [
    {
      "cell_type": "markdown",
      "metadata": {
        "id": "view-in-github",
        "colab_type": "text"
      },
      "source": [
        "<a href=\"https://colab.research.google.com/github/azkbrqlna/2025-PBO-Praktikum/blob/main/Jobsheet3.ipynb\" target=\"_parent\"><img src=\"https://colab.research.google.com/assets/colab-badge.svg\" alt=\"Open In Colab\"/></a>"
      ]
    },
    {
      "cell_type": "markdown",
      "source": [
        "# JOBSHEET 03: KONSTRUKTOR, DESTRUKTOR, DAN ENKAPSULASI"
      ],
      "metadata": {
        "id": "Gf_sBlBGRWKf"
      }
    },
    {
      "cell_type": "markdown",
      "source": [
        "## A.\tTujuan Instruksional Khusus\n",
        "Setelah menyelesaikan praktikum ini, mahasiswa diharapkan mampu:\n",
        "1.\tMenjelaskan dan menggunakan konstruktor (  init  ) dan destruktor (  del  )\n",
        "2.\tMemahami peran self dalam method sebuah kelas\n",
        "3.\tMenerapkan konsep enkapsulasi (encapsulation) dalam Python\n",
        "4.\tMenggunakan getter, setter, dan dekorator @property untuk mengelola akses atribut\n"
      ],
      "metadata": {
        "id": "IOtXfK8wSM22"
      }
    },
    {
      "cell_type": "markdown",
      "source": [
        "## B. Langkah Praktikum"
      ],
      "metadata": {
        "id": "8xSdCVQpSX64"
      }
    },
    {
      "cell_type": "markdown",
      "source": [
        "### Praktikum 01: Enkapsulasi pada kelas Bank Account"
      ],
      "metadata": {
        "id": "noAKN-zgS3dY"
      }
    },
    {
      "cell_type": "markdown",
      "source": [
        "Berikut adalah contoh sederhana dalam Python yang mendemonstrasikan proses enkapsulasi (encapsulation). Enkapsulasi adalah konsep yang bertujuan untuk “menyembunyikan” atau melindungi data (atribut) di dalam suatu objek agar tidak diakses secara langsung di luar kelas, serta menyediakan metode (fungsi) khusus untuk memanipulasi data tersebut. UML kelas diagram kelas BankAccount.\n",
        "\n",
        "\n",
        "•\tAtribut Privat:\n",
        "\n",
        "o\t owner: str\n",
        "Menyimpan nama pemilik akun (tipe data string).\n",
        "\n",
        "o\t balance: int\n",
        "Menyimpan saldo akun (tipe data integer).\n",
        "\n",
        "•\tMetode Publik:\n",
        "o\t init (owner: str, balance: int)\n",
        "Konstruktor yang digunakan untuk menginisialisasi objek dengan parameter\n",
        "owner dan balance.\n",
        "\n",
        "o\tdeposit(amount: int): None\n",
        "Metode untuk menambahkan saldo ke akun. Jika nilai amount lebih dari 0, maka nilai tersebut ditambahkan ke  balance.\n",
        "\n",
        "o\twithdraw(amount: int): None\n",
        "Metode untuk menarik saldo. Melakukan validasi agar jumlah penarikan tidak melebihi saldo yang tersedia.\n",
        "\n",
        "o\tget_balance(): int\n",
        "Metode untuk mengambil nilai saldo akun saat ini.\n",
        "Diagram di atas memberikan gambaran mengenai struktur kelas BankAccount serta cara kerja enkapsulasi dalam mengatur atribut dan metode di dalam kelas.\n",
        "\n",
        "Kemudian untuk kode praktikum dalam python dapat dilihat sebagai berikut:\n"
      ],
      "metadata": {
        "id": "4U8kI1GASe7f"
      }
    },
    {
      "cell_type": "code",
      "execution_count": 2,
      "metadata": {
        "colab": {
          "base_uri": "https://localhost:8080/"
        },
        "id": "h23Vya9DRKqN",
        "outputId": "0b8c351d-1994-4065-cfaa-909255f0500b"
      },
      "outputs": [
        {
          "output_type": "stream",
          "name": "stdout",
          "text": [
            "500 telah ditambahkan ke akun Alice.\n",
            "Jumlah deposit harus lebih dari 0.\n",
            "300 telah ditarik dari akun Alice.\n",
            "Saldo tidak mencukupi.\n",
            "Saldo terakhir di akun Alice: 1200\n"
          ]
        }
      ],
      "source": [
        "class BankAccount:\n",
        "    def __init__(self, owner, balance):\n",
        "        self.__owner = owner\n",
        "        self.__balance = balance\n",
        "\n",
        "    def deposit(self, amount):\n",
        "        \"\"\"Method untuk menambahkan saldo.\"\"\"\n",
        "        if amount > 0:\n",
        "            self.__balance += amount\n",
        "            print(f\"{amount} telah ditambahkan ke akun {self.__owner}.\")\n",
        "        else:\n",
        "            print(\"Jumlah deposit harus lebih dari 0.\")\n",
        "\n",
        "    def withdraw(self, amount):\n",
        "        \"\"\"Method untuk menarik saldo.\"\"\"\n",
        "        if amount <= self.__balance:\n",
        "            self.__balance -= amount\n",
        "            print(f\"{amount} telah ditarik dari akun {self.__owner}.\")\n",
        "        else:\n",
        "            print(\"Saldo tidak mencukupi.\")\n",
        "\n",
        "    def get_balance(self):\n",
        "        \"\"\"Method untuk mendapatkan informasi saldo terkini.\"\"\"\n",
        "        return self.__balance\n",
        "\n",
        "# contoh penggunaan\n",
        "if __name__ == \"__main__\":\n",
        "    # Membuat objek BankAccount dengan owner=\"Alice\" dan balance awal\n",
        "    alice_account = BankAccount(owner=\"Alice\", balance=1000)\n",
        "\n",
        "    # Deposit uang\n",
        "    alice_account.deposit(500)     # Berhasil\n",
        "    alice_account.deposit(-100)    # Gagal (validasi)\n",
        "\n",
        "    # Withdraw uang\n",
        "    alice_account.withdraw(300)    # Berhasil\n",
        "    alice_account.withdraw(2000)   # Gagal (saldo tidak cukup)\n",
        "\n",
        "    # Mendapatkan saldo\n",
        "    current_balance = alice_account.get_balance()\n",
        "    print(f\"Saldo terakhir di akun Alice: {current_balance}\")\n",
        "\n",
        "\n",
        "  # Mencoba mengakses atribut 'private' langsung (tidak direkomendasikan)\n",
        "  # alice_account.  balance # Akan error\n",
        "  # Karena Python “mangling” nama atribut __balance menjadi BankAccount__balance\n",
        "  # Ini adalah salah satu mekanisme enkapsulasi sederhana di Python."
      ]
    }
  ]
}