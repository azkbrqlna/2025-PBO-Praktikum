{
  "nbformat": 4,
  "nbformat_minor": 0,
  "metadata": {
    "colab": {
      "provenance": [],
      "authorship_tag": "ABX9TyOfHADbcu7Sib5+Z0+qxLV7",
      "include_colab_link": true
    },
    "kernelspec": {
      "name": "python3",
      "display_name": "Python 3"
    },
    "language_info": {
      "name": "python"
    }
  },
  "cells": [
    {
      "cell_type": "markdown",
      "metadata": {
        "id": "view-in-github",
        "colab_type": "text"
      },
      "source": [
        "<a href=\"https://colab.research.google.com/github/azkbrqlna/2025-PBO-Praktikum/blob/main/Jobsheet5.ipynb\" target=\"_parent\"><img src=\"https://colab.research.google.com/assets/colab-badge.svg\" alt=\"Open In Colab\"/></a>"
      ]
    },
    {
      "cell_type": "markdown",
      "source": [
        "## Praktikum 01: Polimorfisme dengan Inheritance dan Overriding"
      ],
      "metadata": {
        "id": "bth1c0mOkxmN"
      }
    },
    {
      "cell_type": "code",
      "execution_count": 11,
      "metadata": {
        "id": "jA4M6848jz3D",
        "colab": {
          "base_uri": "https://localhost:8080/"
        },
        "outputId": "2ccf53ef-ece5-4e02-b48f-d8c579b7473c"
      },
      "outputs": [
        {
          "output_type": "stream",
          "name": "stdout",
          "text": [
            "\n",
            "Aksi Burung:\n",
            "--Aksi untuk Pipit Gereja--\n",
            "Pipit Gereja terbang cepat diantara pepohonan\n",
            "Pipit Gereja berkicau  merdu : cit cit cit!\n",
            "---------------\n",
            "--Aksi untuk Elang Jawa--\n",
            "Elang Jawa terbang dengan cara Elena\n",
            "Elang Jawa Berteriak Nyaring !\n",
            "---------------\n",
            "--Aksi untuk Burung Misterius--\n",
            "Burung Misterius terbang dengan cara Umum\n",
            "Burung Misterius mengeluarkan suara burung\n",
            "---------------\n"
          ]
        }
      ],
      "source": [
        "# cKelas Induk\n",
        "class Burung:\n",
        "  def __init__(self, nama):\n",
        "    self.nama = nama\n",
        "  def terbang(self):\n",
        "    print(f\"{self.nama} terbang dengan cara Umum\")\n",
        "\n",
        "  def bersuara(self):\n",
        "    print(f\"{self.nama} mengeluarkan suara burung\")\n",
        "\n",
        "# Kelas Child\n",
        "class Elang(Burung):\n",
        "  def __init__(self, nama, rentang_sayap):\n",
        "    super().__init__(nama)\n",
        "    self.rentang_sayap = rentang_sayap\n",
        "\n",
        "  #Override\n",
        "  def terbang(self):\n",
        "    print(f\"{self.nama} terbang dengan cara Elena\")\n",
        "  # Override\n",
        "  def bersuara(self):\n",
        "    print(f\"{self.nama} Berteriak Nyaring !\")\n",
        "\n",
        "class Pipit(Burung):\n",
        "  def __init__(self, nama, warna_bulu):\n",
        "    super().__init__(nama)\n",
        "    self.warna_bulu = warna_bulu\n",
        "\n",
        "  def terbang(self):\n",
        "    print(f\"{self.nama} terbang cepat diantara pepohonan\")\n",
        "\n",
        "  def bersuara(self):\n",
        "    print(f\"{self.nama} berkicau  merdu : cit cit cit!\")\n",
        "\n",
        "# Fungsi yang memanfaatkan polimorfisme\n",
        "def demonstrasi_aksi_burung(daftar_burung):\n",
        "  print(\"\\nAksi Burung:\")\n",
        "\n",
        "  for burung in daftar_burung:\n",
        "    print(f\"--Aksi untuk {burung.nama}--\")\n",
        "    burung.terbang()\n",
        "    burung.bersuara()\n",
        "\n",
        "    print(\"-\"*15)\n",
        "\n",
        "if __name__ == \"__main__\":\n",
        "  elang_jawa = Elang(\"Elang Jawa\", 1.5)\n",
        "  pipit_gereja = Pipit(\"Pipit Gereja\", \"Coklat\")\n",
        "  burung_aneh = Burung(\"Burung Misterius\")\n",
        "\n",
        "  koleksi_burung = {elang_jawa, pipit_gereja, burung_aneh}\n",
        "\n",
        "  demonstrasi_aksi_burung(koleksi_burung)"
      ]
    },
    {
      "cell_type": "markdown",
      "source": [
        "## Praktikum 02: Polimorfisme dengan Duck Typing\n",
        "\n"
      ],
      "metadata": {
        "id": "pFYQgrAPnrvM"
      }
    },
    {
      "cell_type": "code",
      "source": [
        "class Kucing:\n",
        "  def bersuara(self):\n",
        "    print(\"Kucing :Miaw!\")\n",
        "\n",
        "class Anjing:\n",
        "  def bersuara(self):\n",
        "    print(\"Anjing : uk guk!\")\n",
        "\n",
        "class Bebek:\n",
        "  def bersuara(self):\n",
        "    print(\"Bebek : kwek!\")\n",
        "\n",
        "class Mobil: # kelas ini tidak punya metode bersuara()\n",
        "  def jalankan(self):\n",
        "    print(\"Mobil: Brum!\")\n",
        "\n",
        "#fungsi ini tidak peduki tipe objeknya\n",
        "# asal punya metode bersuara()\n",
        "def buat_suara(objek_yang_bisa_bersuara):\n",
        "  try:\n",
        "    objek_yang_bisa_bersuara.bersuara()\n",
        "  except AttributeError:\n",
        "    # menangani jika objek tidak punya metode bersuara\n",
        "    print(f\"Objek {type(objek_yang_bisa_bersuara).__name__} tidak bersuara\")\n",
        "\n",
        "if __name__ == \"__main__\":\n",
        "  kucing1 = Kucing()\n",
        "  anjing1 = Anjing()\n",
        "  bebek1 = Bebek()\n",
        "  mobil1 = Mobil()\n",
        "\n",
        "  daftar_objek = [kucing1, anjing1, bebek1, mobil1]\n",
        "\n",
        "  print(\"Demonstrasi Duck Typing:\")\n",
        "  for item in daftar_objek:\n",
        "    buat_suara(item)"
      ],
      "metadata": {
        "colab": {
          "base_uri": "https://localhost:8080/"
        },
        "id": "bI2Tap6prCmK",
        "outputId": "f12dffe3-46e4-4e2f-b844-a021c5b2ad57"
      },
      "execution_count": null,
      "outputs": [
        {
          "output_type": "stream",
          "name": "stdout",
          "text": [
            "Demonstrasi Duck Typing:\n",
            "Kucing :Miaw!\n",
            "Anjing : uk guk!\n",
            "Bebek : kwek!\n",
            "Objek Mobil tidak bersuara\n"
          ]
        }
      ]
    },
    {
      "cell_type": "markdown",
      "source": [
        "## Praktikum 03: Simulasi Overloading dalam Metode Kelas dengan *args"
      ],
      "metadata": {
        "id": "brEVaEDHtkGi"
      }
    },
    {
      "cell_type": "code",
      "source": [
        "class KalkulatorSederhana:\n",
        "  def __init__(self, nama=\"Kalkulator\"):\n",
        "    self.nama = nama\n",
        "    print(f\"{self.nama} digunakan\")\n",
        "\n",
        "  def tambah(self, *args):\n",
        "    \"\"\"\n",
        "    Metode ini menjumlahkan semua atgumen angka yang diberikan. menerima sejumlah argumen posisi menggunakan *args\n",
        "    \"\"\"\n",
        "    print(f\"\\n Memanggil metode tambah dengan argumen: {args}\")\n",
        "    if not args:\n",
        "      print(\"Tidak ada angka untuk dijumlahkan \")\n",
        "      return 0 # atau bisa juga none atau raise error\n",
        "\n",
        "    total = 0\n",
        "    valid_input = True\n",
        "    for angka in args:\n",
        "      #Melakukan pengecekan tipe sederhana\n",
        "      if isinstance(angka, (int,float)):\n",
        "        total += angka\n",
        "      else:\n",
        "        print(f\"Peringatan : argumen '{angka}' bukan angka dan akan diabaikan\")\n",
        "      return total\n",
        "\n",
        "if __name__ == \"__main__\":\n",
        "  calc = KalkulatorSederhana(\"Calc-01\")\n",
        "\n",
        "  # Memanggil metode 'tambah' dengan jumlah argumen berbeda\n",
        "\n",
        "  print(\"\\n--- Percobaan Penjumlahan --\")\n",
        "  calc.tambah(5,10)\n",
        "  calc.tambah(2,3,5,10)\n",
        "  calc.tambah(100)\n",
        "  calc.tambah() # tanpa argumen\n",
        "  calc.tambah(1, 2, \"tiga\", 4, 5.5) # dengan input nonagka"
      ],
      "metadata": {
        "colab": {
          "base_uri": "https://localhost:8080/"
        },
        "id": "C-gR9A6Gtm0O",
        "outputId": "e28988e1-c1af-4030-8949-141e8e1f77f7"
      },
      "execution_count": null,
      "outputs": [
        {
          "output_type": "stream",
          "name": "stdout",
          "text": [
            "Calc-01 digunakan\n",
            "\n",
            "--- Percobaan Penjumlahan --\n",
            "\n",
            " Memanggil metode tambah dengan argumen: (5, 10)\n",
            "\n",
            " Memanggil metode tambah dengan argumen: (2, 3, 5, 10)\n",
            "\n",
            " Memanggil metode tambah dengan argumen: (100,)\n",
            "\n",
            " Memanggil metode tambah dengan argumen: ()\n",
            "Tidak ada angka untuk dijumlahkan \n",
            "\n",
            " Memanggil metode tambah dengan argumen: (1, 2, 'tiga', 4, 5.5)\n"
          ]
        }
      ]
    },
    {
      "cell_type": "markdown",
      "source": [
        "## Praktikum 04: Simulasi Overloading dalam Metode Kelas dengan *args dan **kwargs"
      ],
      "metadata": {
        "id": "ZgHNSrW7v_-S"
      }
    },
    {
      "cell_type": "code",
      "source": [
        "class DataProcessor:\n",
        "  def __init__(self, processor_id):\n",
        "    self.processor_id = processor_id\n",
        "    print(f\"Data Processor {self.processor_id} siap\")\n",
        "\n",
        "  def process(self, *args, **kwargs):\n",
        "    \"\"\"\n",
        "    Metode ini memproses data dengan argumen posisi (*args)\n",
        "    dan kata kunci (**kwargs) yang jumlahnya variabel.\n",
        "    \"\"\"\n",
        "    print(f\"\\n--- {self.processor_id} Memproses data ---\")\n",
        "\n",
        "    # Memproses argumen Posisi (*args -> tuple)\n",
        "    if args:\n",
        "      print(\"Argumen Posisi Diterima :\")\n",
        "      for i, arg in enumerate(args):\n",
        "        print(f\"args[{i}] : {arg} (tipe: {type(arg).__name__})\")\n",
        "    else:\n",
        "      print(\"Tidak ada argumen poisi\")\n",
        "\n",
        "    # memproses argumen kata kunci (**kwargs -> dict)\n",
        "    if kwargs:\n",
        "      print(\"Argummen Kata Kunci Diterima :\")\n",
        "      for kunci, nilai in kwargs.items():\n",
        "        print(f\" {kunci } : {nilai} (tipe:{type(nilai).__name__})\")\n",
        "    else:\n",
        "      print(\"TIdak ada argumen kata kunci \")\n",
        "      print(\"________________________\")\n",
        "\n",
        "if __name__ == \"__main__\":\n",
        "  #membuat instance dari kelas\n",
        "  processor1 = DataProcessor(\"DP-001\")\n",
        "\n",
        "  # Memanggil metode 'process' dengan berbagai cara\n",
        "  print(f\"\\nPanggilan 1 : Tanpa aargumen tambahan\")\n",
        "  processor1.process()\n",
        "\n",
        "  print(\"\\nPanggilan 2 : Hanya argumen Posisi\")\n",
        "  processor1.process(100, \"Status OK\", 99.9, False)\n",
        "\n",
        "  print(\"\\nPanggilan 3 : Hanya argumen kata kunci\")\n",
        "  processor1.process(user=\"admin\", level = 5, mode= \"verbose\")\n",
        "\n",
        "  print(\"\\nPanggilan 4 : Kombinasi argumen posisi dan kata kunci\")\n",
        "  processor1.process(\"Tasl-A\", \"Task-B\", status=\"Running\", priority=\"High\",  thread_id=54321)\n",
        "\n",
        "  # panggilan dengan list dan dictionary sebagagai argumen posisi\n",
        "  print(\"\\nPanggilan 5 : Argumen posisi kompleks\")\n",
        "  list_ids =  [\"A1\", \"B2\", \"C3\"]\n",
        "  dict_params = {\"timeout\": 30, \"retry\": 3}\n",
        "  processor1.process(list_ids, dict_params, owner=\"System\", emabled=True)"
      ],
      "metadata": {
        "colab": {
          "base_uri": "https://localhost:8080/"
        },
        "id": "_DjgjkGpwCQ2",
        "outputId": "2e73933e-a928-4fa4-abee-b084518f17cd"
      },
      "execution_count": null,
      "outputs": [
        {
          "output_type": "stream",
          "name": "stdout",
          "text": [
            "Data Processor DP-001 siap\n",
            "\n",
            "Panggilan 1 : Tanpa aargumen tambahan\n",
            "\n",
            "--- DP-001 Memproses data ---\n",
            "Tidak ada argumen poisi\n",
            "TIdak ada argumen kata kunci \n",
            "________________________\n",
            "\n",
            "Panggilan 2 : Hanya argumen Posisi\n",
            "\n",
            "--- DP-001 Memproses data ---\n",
            "Argumen Posisi Diterima :\n",
            "args[0] : 100 (tipe: int)\n",
            "args[1] : Status OK (tipe: str)\n",
            "args[2] : 99.9 (tipe: float)\n",
            "args[3] : False (tipe: bool)\n",
            "TIdak ada argumen kata kunci \n",
            "________________________\n",
            "\n",
            "Panggilan 3 : Hanya argumen kata kunci\n",
            "\n",
            "--- DP-001 Memproses data ---\n",
            "Tidak ada argumen poisi\n",
            "Argummen Kata Kunci Diterima :\n",
            " user : admin (tipe:str)\n",
            " level : 5 (tipe:int)\n",
            " mode : verbose (tipe:str)\n",
            "\n",
            "Panggilan 4 : Kombinasi argumen posisi dan kata kunci\n",
            "\n",
            "--- DP-001 Memproses data ---\n",
            "Argumen Posisi Diterima :\n",
            "args[0] : Tasl-A (tipe: str)\n",
            "args[1] : Task-B (tipe: str)\n",
            "Argummen Kata Kunci Diterima :\n",
            " status : Running (tipe:str)\n",
            " priority : High (tipe:str)\n",
            " thread_id : 54321 (tipe:int)\n",
            "\n",
            "Panggilan 5 : Argumen posisi kompleks\n",
            "\n",
            "--- DP-001 Memproses data ---\n",
            "Argumen Posisi Diterima :\n",
            "args[0] : ['A1', 'B2', 'C3'] (tipe: list)\n",
            "args[1] : {'timeout': 30, 'retry': 3} (tipe: dict)\n",
            "Argummen Kata Kunci Diterima :\n",
            " owner : System (tipe:str)\n",
            " emabled : True (tipe:bool)\n"
          ]
        }
      ]
    },
    {
      "cell_type": "markdown",
      "source": [
        "## Praktikum 05: Kombinasi Polimorfisme (Inheritance & Duck Typing)\n"
      ],
      "metadata": {
        "id": "RAdCGiVa0UuH"
      }
    },
    {
      "cell_type": "code",
      "source": [
        "import math\n",
        "\n",
        "# --- Definisi KElas dari Hierarki Inheritance ---\n",
        "class Bentuk:\n",
        "  # Metode ini bisa dianggap sebagai 'template' atau interfave dasar\n",
        "  def nama_bentuk(self):\n",
        "    return \"Bentuk Generik\"\n",
        "\n",
        "  # Metode ini wajib  di override oleh subclass\n",
        "  def hitung_luas(self):\n",
        "    raise NotImplementedError(\"Subclass harus mengimpementasikan metode ini\")\n",
        "\n",
        "class Lingkaran(Bentuk):\n",
        "  def __init__(self, radius):\n",
        "    self.radius = radius\n",
        "\n",
        "  # Override\n",
        "  def nama_bentuk(self):\n",
        "    return(\"LIngkaran\")\n",
        "\n",
        "  def hitung_luas(self):\n",
        "    return math.pi * (self.radius ** 2)\n",
        "\n",
        "class Persegi(Bentuk):\n",
        "  def __init__(self, sisi):\n",
        "    self.sisi = sisi\n",
        "\n",
        "  def nama_bentuk(Self):\n",
        "    return \"Persegi\"\n",
        "\n",
        "  def hitung_luas(self):\n",
        "    return self.sisi * self.sisi\n",
        "\n",
        "# --- Definisi Kelas Lain (Tidak Terkait Inheritance dengan Bentuk) ---\n",
        "class TaplakMeja:\n",
        "  def __init__(self , panjang , lebar):\n",
        "    self.panjang = panjang\n",
        "    self.lebar = lebar\n",
        "\n",
        "  # Metode dengan nama sama -> 'hitung_luas'\n",
        "  # Ini memungkinkan TaplakMeja bekerja dengan fungsi polimorfik di bawah\n",
        "  def hitung_luas(self):\n",
        "    return self.panjang * self.lebar\n",
        "\n",
        "  # Metode yang berbeda, tidak ada di kelas Bentuk\n",
        "  def deskripsi(self):\n",
        "    return f\"Taplak Meja {self.panjang} x {self.lebar}\"\n",
        "\n",
        "# -- Fungsi  Polimerik --\n",
        "def tampilkan_info_luas(objek_dengan_luas):\n",
        "  print(\"-\" * 20)\n",
        "  try:\n",
        "    # Mencoba memanggil hitung_luas()  - inti polimorfisme\n",
        "    luas = objek_dengan_luas.hitung_luas()\n",
        "    try :\n",
        "      nama = objek_dengan_luas.bentuk()\n",
        "    except AttributeError:\n",
        "      # Jika tidak ada nama_bentuk(), gunakan nama kelasnua\n",
        "      nama = type(objek_dengan_luas).__name__\n",
        "    print(f\"Objek: {nama}\")\n",
        "    print(f\"Luas : {luas:.2f}\") # format luas 2 angka desimal\n",
        "  except AttributeError:\n",
        "    # Menangani jika objek sama sekali tidak punya .hitung_luas()\n",
        "    print(f\"Objek {type(objek_dengan_luas).__name__} tidak dapat dihitung luasnya (metode tidak ditamukan)\")\n",
        "  except NotImplementedError:\n",
        "    # Menangani jika metode ada ada tapi belum diimplementasi (dari kelas Bentuk)\n",
        "    print(f\"Metode 'hitung_luas' belum diimplementasi untuk {type(objek_dengan_luas).__name__}\")\n",
        "\n",
        "if __name__ == \"__main__\":\n",
        "  lingkaran1 = Lingkaran(7)\n",
        "  persegi1 = Persegi(5)\n",
        "  taplak_meja1 = TaplakMeja(1.5, 0.8)\n",
        "  bentuk_dasar = Bentuk() # objek kelas induk (akan raise NotImplementedError)\n",
        "  string_biasa = \"Ini string\" # Objek yang tidak relevan\n",
        "  daftar_item = [lingkaran1, persegi1, taplak_meja1, bentuk_dasar, string_biasa]\n",
        "\n",
        "  print(\"MEnampilkan info luas (Polimorfisme Campuran):\")\n",
        "  for i in daftar_item:\n",
        "    tampilkan_info_luas(i)"
      ],
      "metadata": {
        "colab": {
          "base_uri": "https://localhost:8080/"
        },
        "id": "Iwl5Nz-S2TrQ",
        "outputId": "47ed6198-96d2-4f9e-d174-74f325eea35f"
      },
      "execution_count": null,
      "outputs": [
        {
          "output_type": "stream",
          "name": "stdout",
          "text": [
            "MEnampilkan info luas (Polimorfisme Campuran):\n",
            "--------------------\n",
            "Objek: Lingkaran\n",
            "Luas : 153.94\n",
            "--------------------\n",
            "Objek: Persegi\n",
            "Luas : 25.00\n",
            "--------------------\n",
            "Objek: TaplakMeja\n",
            "Luas : 1.20\n",
            "--------------------\n",
            "Metode 'hitung_luas' belum diimplementasi untuk Bentuk\n",
            "--------------------\n",
            "Objek str tidak dapat dihitung luasnya (metode tidak ditamukan)\n"
          ]
        }
      ]
    },
    {
      "cell_type": "markdown",
      "source": [
        "## Praktikum 06: Kontrol Perilaku Polimorfik dengan isinstance()\n"
      ],
      "metadata": {
        "id": "IZqFmdPQ8Pt8"
      }
    },
    {
      "cell_type": "code",
      "source": [
        "class Burung:\n",
        "  def __init__(self, nama):\n",
        "    self.nama = nama\n",
        "  def terbang(self):\n",
        "    print(f\"{self.nama} terbang dengan cara Umum\")\n",
        "  def bersuara(self):\n",
        "    print(f\" {self.nama} mengeluarkan suara burung\")\n",
        "\n",
        "class Elang(Burung):\n",
        "  def __init__(self, nama, rentang_sayap):\n",
        "    super().__init__(nama)\n",
        "    self.rentang_sayap = rentang_sayap\n",
        "\n",
        "  def terbang(self):\n",
        "    print(f\"{self.nama} terbang tinggi melayang di angkasa\")\n",
        "\n",
        "  def bersuara(self):\n",
        "    print(f\"{self.nama} berteriak nyaring!\")\n",
        "\n",
        "  def berburu(self):\n",
        "    print(f\"{self.nama} sedang ,mencari mangsa dari ketinggian\")\n",
        "\n",
        "class Pipit(Burung):\n",
        "  def __init__(self, nama, warna_bulu):\n",
        "    super().__init__(nama)\n",
        "    self.warna_bulu = warna_bulu\n",
        "\n",
        "  def terbang(self):\n",
        "    print(f\"{self.nama} terbang cepat di antara pepohonan\")\n",
        "\n",
        "  def bersuara(self):\n",
        "    print(f\"{self.nama} berkicau merdu citcitcit!\")\n",
        "\n",
        "  # Metode khusus Pipit\n",
        "  def membangun_sarang(self):\n",
        "    print(f\"{self.nama} sedang mengumpulkan ranting untuk sarang\")\n",
        "\n",
        "\n",
        "def interaksi_dengan_burung(burung):\n",
        "  print(f\"\\n-- Berinteraksi dengan {type(burung).__name__} : {getattr(burung, 'nama', 'objek tidakdikenal')} --\")\n",
        "\n",
        "  # Cek dulu apakah objek adalah instance dari Burung atau turunannya\n",
        "  if isinstance(burung, Burung):\n",
        "    # Perilaku polimorfik dasar (memanggil metode override)\n",
        "    burung.terbang()\n",
        "    burung.bersuara()\n",
        "\n",
        "    #  Menambahkan perilaku spesifik berdasarkan tipe turunan\n",
        "    if isinstance(burung, Elang):\n",
        "      print(\"-> Ini adalah Elang!\")\n",
        "      burung.berburu() #  Panggil method khusus Elang\n",
        "    elif isinstance(burung, Pipit):\n",
        "      print(\"-> Ini adalah Pipit!\")\n",
        "      burung.membangun_sarang() # Panggil method khusus Pipit\n",
        "    else:\n",
        "      #Hanya Burung Generik, bukan turunan spesifik yang dikenali\n",
        "      print(\"-> Ini adalah burung umum! (bukan Elang/pipit)\")\n",
        "  else:\n",
        "    #jika objek BUKAN instance Burung sama sekali\n",
        "    print(\"-> Objek ini bukan termasuk jenis burung!\")\n",
        "  print(\"-\" * 25)\n",
        "\n",
        "if __name__ == \"__main__\":\n",
        "  elang_sumatra = Elang(\"Elang Sumatra\", 1.8)\n",
        "  pipit_rumah = Pipit(\"Pipit Rumah\", \"ABu abu\")\n",
        "  merak = Burung(\"Merak\") # Contoh burung lain (induk)\n",
        "  kucing_tetangga = \"Meong\" # Objek non-burung\n",
        "\n",
        "  koleksi_makhluk = [elang_sumatra, pipit_rumah, merak, kucing_tetangga]\n",
        "  for makhluk in koleksi_makhluk:\n",
        "    interaksi_dengan_burung(makhluk)"
      ],
      "metadata": {
        "colab": {
          "base_uri": "https://localhost:8080/"
        },
        "id": "UPecG8ZH8MEl",
        "outputId": "b157baed-48df-4368-8f57-ce1c6b10c675"
      },
      "execution_count": null,
      "outputs": [
        {
          "output_type": "stream",
          "name": "stdout",
          "text": [
            "\n",
            "-- Berinteraksi dengan Elang : Elang Sumatra --\n",
            "Elang Sumatra terbang tinggi melayang di angkasa\n",
            "Elang Sumatra berteriak nyaring!\n",
            "-> Ini adalah Elang!\n",
            "Elang Sumatra sedang ,mencari mangsa dari ketinggian\n",
            "-------------------------\n",
            "\n",
            "-- Berinteraksi dengan Pipit : Pipit Rumah --\n",
            "Pipit Rumah terbang cepat di antara pepohonan\n",
            "Pipit Rumah berkicau merdu citcitcit!\n",
            "-> Ini adalah Pipit!\n",
            "Pipit Rumah sedang mengumpulkan ranting untuk sarang\n",
            "-------------------------\n",
            "\n",
            "-- Berinteraksi dengan Burung : Merak --\n",
            "Merak terbang dengan cara Umum\n",
            " Merak mengeluarkan suara burung\n",
            "-> Ini adalah burung umum! (bukan Elang/pipit)\n",
            "-------------------------\n",
            "\n",
            "-- Berinteraksi dengan str : objek tidakdikenal --\n",
            "-> Objek ini bukan termasuk jenis burung!\n",
            "-------------------------\n"
          ]
        }
      ]
    },
    {
      "cell_type": "markdown",
      "source": [
        "## Penugasan"
      ],
      "metadata": {
        "id": "ht2kXqDnBl3A"
      }
    },
    {
      "cell_type": "code",
      "source": [
        "class Komputer:\n",
        "  def __init__(self, merk, processor, ram_gb):\n",
        "    self.merk = merk\n",
        "    self.processor = processor\n",
        "    self.ram_gb = ram_gb\n",
        "\n",
        "  def info_spesifikasi(self):\n",
        "    print(f\"Merk: {self.merk}\")\n",
        "    print(f\"Processor: {self.processor}\")\n",
        "    print(f\"RAM: {self.ram_gb} GB\")\n",
        "\n",
        "  def jalankan_aplikasi(self, nama_aplikasi):\n",
        "    print(f\"{self.merk} menjalankan aplikasi {nama_aplikasi}...\")\n",
        "\n",
        "  def upgrade_ram(self, tambahan_gb, tipe_ram = 'DDR4'):\n",
        "    self.ram_gb += tambahan_gb\n",
        "    print(f\"{self.merk} mengupgrade RAM ke {self.ram_gb} GB {tipe_ram}\")\n",
        "\n",
        "  def install_software(self, *args):\n",
        "    for software in args:\n",
        "      print(f\"menginstal  {software} di {self.merk} ...\")\n",
        "\n",
        "class Laptop(Komputer):\n",
        "  def __init__(self,merk, processor, ram_gb, ukuran_layar_inch, berat_kg):\n",
        "    super().__init__(merk, processor, ram_gb)\n",
        "    self.ukuran_layar_inch = ukuran_layar_inch\n",
        "    self.berat_kg = berat_kg\n",
        "\n",
        "  def info_spesifikasi(self):\n",
        "    super().info_spesifikasi()\n",
        "    print(f\"Ukuran Layar: {self.ukuran_layar_inch} inch\")\n",
        "    print(f\"Berat: {self.berat_kg} kg\")\n",
        "\n",
        "class Desktop(Komputer):\n",
        "  def __init__(self, merk, processor, ram_gb, jenis_casing, monitor_external):\n",
        "    super().__init__(merk, processor, ram_gb)\n",
        "    self.jenis_casing = jenis_casing\n",
        "    self.monitor_external = monitor_external\n",
        "\n",
        "  def info_spesifikasi(self):\n",
        "    super().info_spesifikasi()\n",
        "    print(f\"Jenis Casing : {self.jenis_casing}\")\n",
        "    print(f\"Monitor External : {'Ya' if self.monitor_external else 'Tidak'}\")\n",
        "\n",
        "def cetak_semua_spesifikasi(daftar_komputer):\n",
        "  for komputer in daftar_komputer:\n",
        "    print(f\"\\n-- Informasi Spesifikasi {type(komputer).__name__} --\")\n",
        "    komputer.info_spesifikasi()\n",
        "\n",
        "\n",
        "if __name__ == \"__main__\":\n",
        "    laptop1 = Laptop(\"Asus ROG\", \"Intel Core i9\", 32, 15.6, 2.1)\n",
        "    desktop1 = Desktop(\"Dell Alienware\", \"AMD Ryzen 9\", 64, \"Tower\", True)\n",
        "    laptop2 = Laptop(\"MacBook Pro\", \"Apple M2\", 16, 14.0, 1.5)\n",
        "\n",
        "    daftar_komputer = [laptop1, desktop1, laptop2]\n",
        "\n",
        "    cetak_semua_spesifikasi(daftar_komputer)\n",
        "\n",
        "    print(\"\\n=== DEMO UPGRADE RAM ===\")\n",
        "    laptop1.upgrade_ram(8) # defaultnya DDR4\n",
        "    laptop1.upgrade_ram(4, \"DDR5\")\n",
        "\n",
        "    print(\"\\n=== DEMO INSTALL SOFTWARE ===\")\n",
        "    desktop1.install_software(\"Photoshop\")\n",
        "    desktop1.install_software(\"Visual Studio Code\", \"Chrome\", \"Zoom\")\n",
        "\n",
        "    print(\"\\n=== DEMO JALANKAN APLIKASI ===\")\n",
        "    laptop2.jalankan_aplikasi(\"Final Cut Pro\")"
      ],
      "metadata": {
        "colab": {
          "base_uri": "https://localhost:8080/"
        },
        "id": "4gTL3-4UBy5A",
        "outputId": "450280d1-1b0c-4a70-8db0-bdcb779bb088"
      },
      "execution_count": 9,
      "outputs": [
        {
          "output_type": "stream",
          "name": "stdout",
          "text": [
            "\n",
            "-- Informasi Spesifikasi Laptop --\n",
            "Merk: Asus ROG\n",
            "Processor: Intel Core i9\n",
            "RAM: 32 GB\n",
            "Ukuran Layar: 15.6 inch\n",
            "Berat: 2.1 kg\n",
            "\n",
            "-- Informasi Spesifikasi Desktop --\n",
            "Merk: Dell Alienware\n",
            "Processor: AMD Ryzen 9\n",
            "RAM: 64 GB\n",
            "Jenis Casing : Tower\n",
            "Monitor External : Ya\n",
            "\n",
            "-- Informasi Spesifikasi Laptop --\n",
            "Merk: MacBook Pro\n",
            "Processor: Apple M2\n",
            "RAM: 16 GB\n",
            "Ukuran Layar: 14.0 inch\n",
            "Berat: 1.5 kg\n",
            "\n",
            "=== DEMO UPGRADE RAM ===\n",
            "Asus ROG mengupgrade RAM ke 40 GB DDR4\n",
            "Asus ROG mengupgrade RAM ke 44 GB DDR5\n",
            "\n",
            "=== DEMO INSTALL SOFTWARE ===\n",
            "menginstal  Photoshop di Dell Alienware ...\n",
            "menginstal  Visual Studio Code di Dell Alienware ...\n",
            "menginstal  Chrome di Dell Alienware ...\n",
            "menginstal  Zoom di Dell Alienware ...\n",
            "\n",
            "=== DEMO JALANKAN APLIKASI ===\n",
            "MacBook Pro menjalankan aplikasi Final Cut Pro...\n"
          ]
        }
      ]
    }
  ]
}